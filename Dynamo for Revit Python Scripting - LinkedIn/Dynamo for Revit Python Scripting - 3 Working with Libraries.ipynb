{
 "cells": [
  {
   "cell_type": "markdown",
   "metadata": {},
   "source": [
    "### Dynamo for Revit Python Scripting\n",
    "\n",
    "#### 3. Working with Libraries"
   ]
  },
  {
   "cell_type": "markdown",
   "metadata": {},
   "source": [
    "3.1 Built-In Python Modules\n",
    "\n",
    "Build a sin wave and look at the doc attribute and directory"
   ]
  },
  {
   "cell_type": "raw",
   "metadata": {},
   "source": [
    "import clr\n",
    "clr.AddReference('ProtoGeometry')\n",
    "from Autodesk.DesignScript.Geometry import*\n",
    "\n",
    "#Import the math module \n",
    "import math\n",
    "\n",
    "#frequency  = IN[0]\n",
    "#length = IN[1]\n",
    "\n",
    "frequency  = 5\n",
    "length = 20\n",
    "\n",
    "points = []\n",
    "\n",
    "#sin wave\n",
    "for i in range(length):\n",
    " \tx = 5 * i\n",
    " \tz = frequency * math.sin(i)\n",
    " \tpoints.append(Point.ByCoordinates(x,0,z))\n",
    "\n",
    "#sin curve\n",
    "curve = NurbsCurve.ByPoints(points)\n",
    "\n",
    "#doc attribute tells you what parameters a fucntion needs\n",
    "s = math.sin.__doc__\n",
    "\n",
    "#directory to view all the functions within a model. Output as a list. \n",
    "#the curve is the sin curve we created\n",
    "\n",
    "OUT = dir(math), curve, s"
   ]
  },
  {
   "cell_type": "markdown",
   "metadata": {},
   "source": [
    "3.2 Extending Python Modules"
   ]
  },
  {
   "cell_type": "markdown",
   "metadata": {},
   "source": [
    "Append IronPython,  import random module for use"
   ]
  },
  {
   "cell_type": "raw",
   "metadata": {},
   "source": [
    "import sys\n",
    "\n",
    "# All the modules that you can call from iron python are in this folder\n",
    "# Add this so we can use for our projects.\n",
    "sys.path.append(r\"C:\\Program Files (x86)\\IronPython 2.7\\Lib\")\n",
    "\n",
    "# import random module for use\n",
    "import random\n",
    "\n",
    "import clr\n",
    "clr.AddReference('ProtoGeometry')\n",
    "from Autodesk.DesignScript.Geometry import*\n",
    "\n",
    "\n",
    "\n",
    "OUT = sys.builtin_module_names, random.random()\n",
    "\n",
    "# Many modules available for us to extend the power of python"
   ]
  },
  {
   "cell_type": "markdown",
   "metadata": {},
   "source": [
    "3.3 Saving our own module"
   ]
  },
  {
   "cell_type": "markdown",
   "metadata": {},
   "source": [
    "3.4 What is IronPython"
   ]
  },
  {
   "cell_type": "markdown",
   "metadata": {},
   "source": [
    "3.5 Accessing Revit Nodes"
   ]
  },
  {
   "cell_type": "markdown",
   "metadata": {},
   "source": [
    "3.6 Importing the Revit API"
   ]
  },
  {
   "cell_type": "markdown",
   "metadata": {},
   "source": [
    "3.7 Working with the Revit API"
   ]
  },
  {
   "cell_type": "markdown",
   "metadata": {},
   "source": [
    "3.8 Revit Conversions"
   ]
  },
  {
   "cell_type": "markdown",
   "metadata": {},
   "source": [
    "3.9 Dynamo Conversions"
   ]
  },
  {
   "cell_type": "markdown",
   "metadata": {},
   "source": [
    "3.10 Navigating the Revit API`"
   ]
  },
  {
   "cell_type": "code",
   "execution_count": null,
   "metadata": {},
   "outputs": [],
   "source": []
  }
 ],
 "metadata": {
  "kernelspec": {
   "display_name": "Python 3",
   "language": "python",
   "name": "python3"
  },
  "language_info": {
   "codemirror_mode": {
    "name": "ipython",
    "version": 3
   },
   "file_extension": ".py",
   "mimetype": "text/x-python",
   "name": "python",
   "nbconvert_exporter": "python",
   "pygments_lexer": "ipython3",
   "version": "3.8.5"
  }
 },
 "nbformat": 4,
 "nbformat_minor": 4
}
