{
 "cells": [
  {
   "cell_type": "markdown",
   "metadata": {},
   "source": [
    "### Dynamo for Revit Python Scripting\n",
    "\n",
    "#### 3. Working with Libraries"
   ]
  },
  {
   "cell_type": "markdown",
   "metadata": {},
   "source": [
    "3.1 Built-In Python Modules\n",
    "\n",
    "Build a sin wave and look at the doc attribute and directory"
   ]
  },
  {
   "cell_type": "raw",
   "metadata": {},
   "source": [
    "import clr\n",
    "clr.AddReference('ProtoGeometry')\n",
    "from Autodesk.DesignScript.Geometry import*\n",
    "\n",
    "#Import the math module \n",
    "import math\n",
    "\n",
    "#frequency  = IN[0]\n",
    "#length = IN[1]\n",
    "\n",
    "frequency  = 5\n",
    "length = 20\n",
    "\n",
    "points = []\n",
    "\n",
    "#sin wave\n",
    "for i in range(length):\n",
    " \tx = 5 * i\n",
    " \tz = frequency * math.sin(i)\n",
    " \tpoints.append(Point.ByCoordinates(x,0,z))\n",
    "\n",
    "#sin curve\n",
    "curve = NurbsCurve.ByPoints(points)\n",
    "\n",
    "#doc attribute tells you what parameters a fucntion needs\n",
    "s = math.sin.__doc__\n",
    "\n",
    "#directory to view all the functions within a model. Output as a list. \n",
    "#the curve is the sin curve we created\n",
    "\n",
    "OUT = dir(math), curve, s"
   ]
  },
  {
   "cell_type": "markdown",
   "metadata": {},
   "source": [
    "3.2 Extending Python Modules"
   ]
  },
  {
   "cell_type": "markdown",
   "metadata": {},
   "source": [
    "Append IronPython,  import random module for use"
   ]
  },
  {
   "cell_type": "raw",
   "metadata": {},
   "source": [
    "import sys\n",
    "\n",
    "# All the modules that you can call from iron python are in this folder\n",
    "# Add this so we can use for our projects.\n",
    "sys.path.append(r\"C:\\Program Files (x86)\\IronPython 2.7\\Lib\")\n",
    "\n",
    "# import random module for use\n",
    "import random\n",
    "\n",
    "import clr\n",
    "clr.AddReference('ProtoGeometry')\n",
    "from Autodesk.DesignScript.Geometry import*\n",
    "\n",
    "OUT = sys.builtin_module_names, random.random()\n",
    "\n",
    "# Many modules available for us to extend the power of python"
   ]
  },
  {
   "cell_type": "markdown",
   "metadata": {},
   "source": [
    "3.3 Saving our own module"
   ]
  },
  {
   "cell_type": "raw",
   "metadata": {},
   "source": [
    "#External .py Function\n",
    "def ThreeMultis(lst):\n",
    "\treturnList = []\n",
    "\tif isinstance(lst, list):\n",
    "\t\tfor num in lst:\n",
    "\t\t\tif num % 3 == 0 and num != 0:\n",
    "\t\t\t\treturnList.append(num)\n",
    "\telse:\n",
    "\t\treturn \"List input of numbers required\"\n",
    "\t\t\n",
    "\treturn returnList"
   ]
  },
  {
   "cell_type": "raw",
   "metadata": {},
   "source": [
    "# Enable Python support and load DesignScript library\n",
    "import clr\n",
    "clr.AddReference('ProtoGeometry')\n",
    "from Autodesk.DesignScript.Geometry import *\n",
    "\n",
    "import sys\n",
    "sys.path.append(r\"C:\\Users\\Jeremy\\Desktop\")\n",
    "\n",
    "#import MyFunctions\n",
    "from MyFunctions import *\n",
    "\n",
    "# The inputs to this node will be stored as a list in the IN variables.\n",
    "dataEnteringNode = IN\n",
    "\n",
    "# Place your code below this line\n",
    "\n",
    "# Assign your output to the OUT variable.\n",
    "OUT = ThreeMultis(range(31))"
   ]
  },
  {
   "cell_type": "markdown",
   "metadata": {},
   "source": [
    "3.4 What is IronPython"
   ]
  },
  {
   "cell_type": "markdown",
   "metadata": {},
   "source": [
    "Rewatch and understand this. "
   ]
  },
  {
   "cell_type": "markdown",
   "metadata": {},
   "source": [
    "3.5 Accessing Revit Nodes"
   ]
  },
  {
   "cell_type": "raw",
   "metadata": {},
   "source": [
    "# Enable Python support and load DesignScript library\n",
    "import clr\n",
    "clr.AddReference('ProtoGeometry')\n",
    "from Autodesk.DesignScript.Geometry import *\n",
    "\n",
    "clr.AddReference('RevitNodes')\n",
    "from Revit.Elements import *\n",
    "\n",
    "# The inputs to this node will be stored as a list in the IN variables.\n",
    "family = IN[0]\n",
    "level = IN[1]\n",
    "output = []\n",
    "\n",
    "# Place your code below this line\n",
    "\n",
    "#Place Family\n",
    "for x in range(0, 5000, 1000):\n",
    "\tpoint = Point.ByCoordinates(x, x, 0)\n",
    "\tcolumn = FamilyInstance.ByPointAndLevel(family, point, level)\n",
    "\toutput.append(column)\n",
    "\n",
    "# Assign your output to the OUT variable.\n",
    "OUT = output"
   ]
  },
  {
   "cell_type": "markdown",
   "metadata": {},
   "source": [
    "3.6 Importing the Revit API"
   ]
  },
  {
   "cell_type": "raw",
   "metadata": {},
   "source": [
    "# Enable Python support and load DesignScript library\n",
    "import clr\n",
    "clr.AddReference('ProtoGeometry')\n",
    "from Autodesk.DesignScript.Geometry import *\n",
    "\n",
    "#Import Revit API\n",
    "clr.AddReference('RevitAPI')\n",
    "from Autodesk.Revit.DB import *\n",
    "\n",
    "# The inputs to this node will be stored as a list in the IN variables.\n",
    "dataEnteringNode = IN\n",
    "\n",
    "# Place your code below this line\n",
    "\n",
    "# Assign your output to the OUT variable.\n",
    "OUT = 0"
   ]
  },
  {
   "cell_type": "markdown",
   "metadata": {},
   "source": [
    "3.7 Working with the Revit API"
   ]
  },
  {
   "cell_type": "raw",
   "metadata": {},
   "source": [
    "clr.AddReference('RevitServices')\n",
    "from RevitServices.Persistence import DocumentManager\n",
    "from RevitServices.Transactions import TransactionManager\n",
    "\n",
    "# The inputs to this node will be stored as a list in the IN variables.\n",
    "familytype = UnwrapElement(IN[0])\n",
    "output = []\n",
    "\n",
    "# Place your code below this line\n",
    "\n",
    "#Assign Document\n",
    "doc = DocumentManager.Instance.CurrentDBDocument\n",
    "\n",
    "#Start Transaction\n",
    "TransactionManager.Instance.EnsureInTransaction(doc)\n",
    "\n",
    "for x in range(0, 100, 10):\n",
    "\tfam = doc.Create.NewFamilyInstance(XYZ(x, 0,0), familytype, Structure.StructuralType.NonStructural)\n",
    "\toutput.append(fam)\n",
    "\t\n",
    "#End Transaction\n",
    "TransactionManager.Instance.TransactionTaskDone()\n",
    "\n",
    "# Assign your output to the OUT variable.\n",
    "OUT = output"
   ]
  },
  {
   "cell_type": "markdown",
   "metadata": {},
   "source": [
    "3.8 Revit Conversions"
   ]
  },
  {
   "cell_type": "raw",
   "metadata": {},
   "source": [
    "# Enable Python support and load DesignScript library\n",
    "import clr\n",
    "clr.AddReference('ProtoGeometry')\n",
    "from Autodesk.DesignScript.Geometry import *\n",
    "\n",
    "#Import Revit API\n",
    "clr.AddReference('RevitAPI')\n",
    "from Autodesk.Revit.DB import *\n",
    "\n",
    "#Import Manager Classes\n",
    "clr.AddReference('RevitServices')\n",
    "from RevitServices.Persistence import DocumentManager\n",
    "from RevitServices.Transactions import TransactionManager\n",
    "\n",
    "#Import DSType Method\n",
    "clr.AddReference('RevitNodes')\n",
    "import Revit\n",
    "clr.ImportExtensions(Revit.Elements)\n",
    "\n",
    "# The inputs to this node will be stored as a list in the IN variables.\n",
    "familytype = UnwrapElement(IN[0])\n",
    "output = []\n",
    "\n",
    "# Place your code below this line\n",
    "\n",
    "#Assign Document\n",
    "doc = DocumentManager.Instance.CurrentDBDocument\n",
    "\n",
    "#Start Transaction\n",
    "TransactionManager.Instance.EnsureInTransaction(doc)\n",
    "\n",
    "for x in range(0, 100, 10):\n",
    "\tfam = doc.Create.NewFamilyInstance(XYZ(x, 0,0), familytype, Structure.StructuralType.NonStructural)\n",
    "\twrappedfam = fam.ToDSType(True)\n",
    "\toutput.append(wrappedfam)\n",
    "\t\n",
    "#End Transaction\n",
    "TransactionManager.Instance.TransactionTaskDone()\n",
    "\n",
    "# Assign your output to the OUT variable.\n",
    "OUT = output"
   ]
  },
  {
   "cell_type": "markdown",
   "metadata": {},
   "source": [
    "3.9 Dynamo Conversions"
   ]
  },
  {
   "cell_type": "raw",
   "metadata": {},
   "source": [
    "# Enable Python support and load DesignScript library\n",
    "import clr\n",
    "clr.AddReference('ProtoGeometry')\n",
    "from Autodesk.DesignScript.Geometry import *\n",
    "\n",
    "#Import Revit API\n",
    "clr.AddReference('RevitAPI')\n",
    "from Autodesk.Revit.DB import *\n",
    "\n",
    "#Import Manager Classes\n",
    "clr.AddReference('RevitServices')\n",
    "from RevitServices.Persistence import DocumentManager\n",
    "from RevitServices.Transactions import TransactionManager\n",
    "\n",
    "#Import DSType Method\n",
    "clr.AddReference('RevitNodes')\n",
    "import Revit\n",
    "clr.ImportExtensions(Revit.Elements)\n",
    "clr.ImportExtensions(Revit.GeometryConversion)\n",
    "\n",
    "# The inputs to this node will be stored as a list in the IN variables.\n",
    "familytype = UnwrapElement(IN[0])\n",
    "output = []\n",
    "\n",
    "# Place your code below this line\n",
    "\n",
    "#Assign Document\n",
    "doc = DocumentManager.Instance.CurrentDBDocument\n",
    "\n",
    "#Start Transaction\n",
    "TransactionManager.Instance.EnsureInTransaction(doc)\n",
    "\n",
    "for x in range(0, 5000, 500):\n",
    "\t#Convert Units\n",
    "\tx = UnitUtils.ConvertToInternalUnits(x, DisplayUnitType.DUT_MILLIMETERS)\n",
    "\n",
    "\tfam = doc.Create.NewFamilyInstance(XYZ(x, 0,0), familytype, Structure.StructuralType.NonStructural)\n",
    "\twrappedfam = fam.ToDSType(True)\n",
    "\t\n",
    "\txyz = XYZ(x, 0, 0)\n",
    "\toutput.append(wrappedfam)\n",
    "\t\n",
    "#End Transaction\n",
    "TransactionManager.Instance.TransactionTaskDone()\n",
    "\n",
    "# Assign your output to the OUT variable.\n",
    "OUT = output"
   ]
  },
  {
   "cell_type": "markdown",
   "metadata": {},
   "source": [
    "3.10 Navigating the Revit API`"
   ]
  },
  {
   "cell_type": "markdown",
   "metadata": {},
   "source": [
    "Rewatch this"
   ]
  },
  {
   "cell_type": "code",
   "execution_count": null,
   "metadata": {},
   "outputs": [],
   "source": []
  }
 ],
 "metadata": {
  "kernelspec": {
   "display_name": "Python 3",
   "language": "python",
   "name": "python3"
  },
  "language_info": {
   "codemirror_mode": {
    "name": "ipython",
    "version": 3
   },
   "file_extension": ".py",
   "mimetype": "text/x-python",
   "name": "python",
   "nbconvert_exporter": "python",
   "pygments_lexer": "ipython3",
   "version": "3.8.5"
  }
 },
 "nbformat": 4,
 "nbformat_minor": 4
}
